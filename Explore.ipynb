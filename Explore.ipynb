{
 "cells": [
  {
   "cell_type": "markdown",
   "id": "2b785420",
   "metadata": {},
   "source": [
    "# This notebook is used to explore the datasets"
   ]
  },
  {
   "cell_type": "code",
   "execution_count": 5,
   "id": "90c11aba",
   "metadata": {},
   "outputs": [],
   "source": [
    "import pandas as pd"
   ]
  },
  {
   "cell_type": "code",
   "execution_count": 13,
   "id": "01df36c8",
   "metadata": {},
   "outputs": [],
   "source": [
    "netflix = pd.read_csv('Data/netflix_titles.csv')\n",
    "prime = pd.read_csv('Data/amazon_prime_titles.csv')\n",
    "disney = pd.read_csv('Data/disney_plus_titles.csv')\n",
    "hulu = pd.read_csv('Data/hulu_titles.csv')\n",
    "platforms = pd.read_csv('Data/MoviesOnStreamingPlatforms.csv')"
   ]
  },
  {
   "cell_type": "code",
   "execution_count": 15,
   "id": "8f9dd63a",
   "metadata": {},
   "outputs": [
    {
     "data": {
      "text/plain": [
       "(8807, 12)"
      ]
     },
     "execution_count": 15,
     "metadata": {},
     "output_type": "execute_result"
    }
   ],
   "source": [
    "netflix.shape"
   ]
  },
  {
   "cell_type": "code",
   "execution_count": 16,
   "id": "e4078a77",
   "metadata": {},
   "outputs": [
    {
     "data": {
      "text/plain": [
       "(9668, 12)"
      ]
     },
     "execution_count": 16,
     "metadata": {},
     "output_type": "execute_result"
    }
   ],
   "source": [
    "prime.shape"
   ]
  },
  {
   "cell_type": "code",
   "execution_count": 17,
   "id": "62189bd8",
   "metadata": {},
   "outputs": [
    {
     "data": {
      "text/plain": [
       "(1450, 12)"
      ]
     },
     "execution_count": 17,
     "metadata": {},
     "output_type": "execute_result"
    }
   ],
   "source": [
    "disney.shape"
   ]
  },
  {
   "cell_type": "code",
   "execution_count": 18,
   "id": "b00f9feb",
   "metadata": {},
   "outputs": [
    {
     "data": {
      "text/plain": [
       "(3073, 12)"
      ]
     },
     "execution_count": 18,
     "metadata": {},
     "output_type": "execute_result"
    }
   ],
   "source": [
    "hulu.shape"
   ]
  },
  {
   "cell_type": "code",
   "execution_count": 14,
   "id": "b3801426",
   "metadata": {},
   "outputs": [
    {
     "data": {
      "text/html": [
       "<div>\n",
       "<style scoped>\n",
       "    .dataframe tbody tr th:only-of-type {\n",
       "        vertical-align: middle;\n",
       "    }\n",
       "\n",
       "    .dataframe tbody tr th {\n",
       "        vertical-align: top;\n",
       "    }\n",
       "\n",
       "    .dataframe thead th {\n",
       "        text-align: right;\n",
       "    }\n",
       "</style>\n",
       "<table border=\"1\" class=\"dataframe\">\n",
       "  <thead>\n",
       "    <tr style=\"text-align: right;\">\n",
       "      <th></th>\n",
       "      <th>Unnamed: 0</th>\n",
       "      <th>ID</th>\n",
       "      <th>Title</th>\n",
       "      <th>Year</th>\n",
       "      <th>Age</th>\n",
       "      <th>Rotten Tomatoes</th>\n",
       "      <th>Netflix</th>\n",
       "      <th>Hulu</th>\n",
       "      <th>Prime Video</th>\n",
       "      <th>Disney+</th>\n",
       "      <th>Type</th>\n",
       "    </tr>\n",
       "  </thead>\n",
       "  <tbody>\n",
       "    <tr>\n",
       "      <th>0</th>\n",
       "      <td>0</td>\n",
       "      <td>1</td>\n",
       "      <td>The Irishman</td>\n",
       "      <td>2019</td>\n",
       "      <td>18+</td>\n",
       "      <td>98/100</td>\n",
       "      <td>1</td>\n",
       "      <td>0</td>\n",
       "      <td>0</td>\n",
       "      <td>0</td>\n",
       "      <td>0</td>\n",
       "    </tr>\n",
       "    <tr>\n",
       "      <th>1</th>\n",
       "      <td>1</td>\n",
       "      <td>2</td>\n",
       "      <td>Dangal</td>\n",
       "      <td>2016</td>\n",
       "      <td>7+</td>\n",
       "      <td>97/100</td>\n",
       "      <td>1</td>\n",
       "      <td>0</td>\n",
       "      <td>0</td>\n",
       "      <td>0</td>\n",
       "      <td>0</td>\n",
       "    </tr>\n",
       "    <tr>\n",
       "      <th>2</th>\n",
       "      <td>2</td>\n",
       "      <td>3</td>\n",
       "      <td>David Attenborough: A Life on Our Planet</td>\n",
       "      <td>2020</td>\n",
       "      <td>7+</td>\n",
       "      <td>95/100</td>\n",
       "      <td>1</td>\n",
       "      <td>0</td>\n",
       "      <td>0</td>\n",
       "      <td>0</td>\n",
       "      <td>0</td>\n",
       "    </tr>\n",
       "    <tr>\n",
       "      <th>3</th>\n",
       "      <td>3</td>\n",
       "      <td>4</td>\n",
       "      <td>Lagaan: Once Upon a Time in India</td>\n",
       "      <td>2001</td>\n",
       "      <td>7+</td>\n",
       "      <td>94/100</td>\n",
       "      <td>1</td>\n",
       "      <td>0</td>\n",
       "      <td>0</td>\n",
       "      <td>0</td>\n",
       "      <td>0</td>\n",
       "    </tr>\n",
       "    <tr>\n",
       "      <th>4</th>\n",
       "      <td>4</td>\n",
       "      <td>5</td>\n",
       "      <td>Roma</td>\n",
       "      <td>2018</td>\n",
       "      <td>18+</td>\n",
       "      <td>94/100</td>\n",
       "      <td>1</td>\n",
       "      <td>0</td>\n",
       "      <td>0</td>\n",
       "      <td>0</td>\n",
       "      <td>0</td>\n",
       "    </tr>\n",
       "    <tr>\n",
       "      <th>...</th>\n",
       "      <td>...</td>\n",
       "      <td>...</td>\n",
       "      <td>...</td>\n",
       "      <td>...</td>\n",
       "      <td>...</td>\n",
       "      <td>...</td>\n",
       "      <td>...</td>\n",
       "      <td>...</td>\n",
       "      <td>...</td>\n",
       "      <td>...</td>\n",
       "      <td>...</td>\n",
       "    </tr>\n",
       "    <tr>\n",
       "      <th>9510</th>\n",
       "      <td>9510</td>\n",
       "      <td>9511</td>\n",
       "      <td>Most Wanted Sharks</td>\n",
       "      <td>2020</td>\n",
       "      <td>NaN</td>\n",
       "      <td>14/100</td>\n",
       "      <td>0</td>\n",
       "      <td>0</td>\n",
       "      <td>0</td>\n",
       "      <td>1</td>\n",
       "      <td>0</td>\n",
       "    </tr>\n",
       "    <tr>\n",
       "      <th>9511</th>\n",
       "      <td>9511</td>\n",
       "      <td>9512</td>\n",
       "      <td>Doc McStuffins: The Doc Is In</td>\n",
       "      <td>2020</td>\n",
       "      <td>NaN</td>\n",
       "      <td>13/100</td>\n",
       "      <td>0</td>\n",
       "      <td>0</td>\n",
       "      <td>0</td>\n",
       "      <td>1</td>\n",
       "      <td>0</td>\n",
       "    </tr>\n",
       "    <tr>\n",
       "      <th>9512</th>\n",
       "      <td>9512</td>\n",
       "      <td>9513</td>\n",
       "      <td>Ultimate Viking Sword</td>\n",
       "      <td>2019</td>\n",
       "      <td>NaN</td>\n",
       "      <td>13/100</td>\n",
       "      <td>0</td>\n",
       "      <td>0</td>\n",
       "      <td>0</td>\n",
       "      <td>1</td>\n",
       "      <td>0</td>\n",
       "    </tr>\n",
       "    <tr>\n",
       "      <th>9513</th>\n",
       "      <td>9513</td>\n",
       "      <td>9514</td>\n",
       "      <td>Hunt for the Abominable Snowman</td>\n",
       "      <td>2011</td>\n",
       "      <td>NaN</td>\n",
       "      <td>10/100</td>\n",
       "      <td>0</td>\n",
       "      <td>0</td>\n",
       "      <td>0</td>\n",
       "      <td>1</td>\n",
       "      <td>0</td>\n",
       "    </tr>\n",
       "    <tr>\n",
       "      <th>9514</th>\n",
       "      <td>9514</td>\n",
       "      <td>9515</td>\n",
       "      <td>Women of Impact: Changing the World</td>\n",
       "      <td>2019</td>\n",
       "      <td>7+</td>\n",
       "      <td>10/100</td>\n",
       "      <td>0</td>\n",
       "      <td>0</td>\n",
       "      <td>0</td>\n",
       "      <td>1</td>\n",
       "      <td>0</td>\n",
       "    </tr>\n",
       "  </tbody>\n",
       "</table>\n",
       "<p>9515 rows × 11 columns</p>\n",
       "</div>"
      ],
      "text/plain": [
       "      Unnamed: 0    ID                                     Title  Year  Age  \\\n",
       "0              0     1                              The Irishman  2019  18+   \n",
       "1              1     2                                    Dangal  2016   7+   \n",
       "2              2     3  David Attenborough: A Life on Our Planet  2020   7+   \n",
       "3              3     4         Lagaan: Once Upon a Time in India  2001   7+   \n",
       "4              4     5                                      Roma  2018  18+   \n",
       "...          ...   ...                                       ...   ...  ...   \n",
       "9510        9510  9511                        Most Wanted Sharks  2020  NaN   \n",
       "9511        9511  9512             Doc McStuffins: The Doc Is In  2020  NaN   \n",
       "9512        9512  9513                     Ultimate Viking Sword  2019  NaN   \n",
       "9513        9513  9514           Hunt for the Abominable Snowman  2011  NaN   \n",
       "9514        9514  9515       Women of Impact: Changing the World  2019   7+   \n",
       "\n",
       "     Rotten Tomatoes  Netflix  Hulu  Prime Video  Disney+  Type  \n",
       "0             98/100        1     0            0        0     0  \n",
       "1             97/100        1     0            0        0     0  \n",
       "2             95/100        1     0            0        0     0  \n",
       "3             94/100        1     0            0        0     0  \n",
       "4             94/100        1     0            0        0     0  \n",
       "...              ...      ...   ...          ...      ...   ...  \n",
       "9510          14/100        0     0            0        1     0  \n",
       "9511          13/100        0     0            0        1     0  \n",
       "9512          13/100        0     0            0        1     0  \n",
       "9513          10/100        0     0            0        1     0  \n",
       "9514          10/100        0     0            0        1     0  \n",
       "\n",
       "[9515 rows x 11 columns]"
      ]
     },
     "execution_count": 14,
     "metadata": {},
     "output_type": "execute_result"
    }
   ],
   "source": [
    "platforms"
   ]
  },
  {
   "cell_type": "code",
   "execution_count": null,
   "id": "71f442cd",
   "metadata": {},
   "outputs": [],
   "source": []
  }
 ],
 "metadata": {
  "kernelspec": {
   "display_name": "Python 3 (ipykernel)",
   "language": "python",
   "name": "python3"
  },
  "language_info": {
   "codemirror_mode": {
    "name": "ipython",
    "version": 3
   },
   "file_extension": ".py",
   "mimetype": "text/x-python",
   "name": "python",
   "nbconvert_exporter": "python",
   "pygments_lexer": "ipython3",
   "version": "3.10.2"
  }
 },
 "nbformat": 4,
 "nbformat_minor": 5
}
